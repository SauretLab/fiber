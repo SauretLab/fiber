{
 "cells": [
  {
   "cell_type": "code",
   "execution_count": 1,
   "metadata": {},
   "outputs": [
    {
     "data": {
      "text/plain": [
       "'\\nCreated on Mon May 30 16:15:46 2022\\n@author: cukelarter\\n\\nScript for initiating single-step basic run on Chemyx Syringe Pump. Tested on Chemyx 100-X.\\n\\nAfter importing serial connection driver we connect to the pump. Connection will remain open\\nuntil user calls \"conn.closeConnection()\". If user does not call this before exiting\\nthe connection will remain locked open until the connection is physically broken (unplugged).\\nThe run will continue to completion after connection is closed.\\n\\n'"
      ]
     },
     "execution_count": 1,
     "metadata": {},
     "output_type": "execute_result"
    }
   ],
   "source": [
    "\n",
    "# -*- coding: utf-8 -*-\n",
    "\"\"\"\n",
    "Created on Mon May 30 16:15:46 2022\n",
    "@author: cukelarter\n",
    "\n",
    "Script for initiating single-step basic run on Chemyx Syringe Pump. Tested on Chemyx 100-X.\n",
    "\n",
    "After importing serial connection driver we connect to the pump. Connection will remain open\n",
    "until user calls \"conn.closeConnection()\". If user does not call this before exiting\n",
    "the connection will remain locked open until the connection is physically broken (unplugged).\n",
    "The run will continue to completion after connection is closed.\n",
    "\n",
    "\"\"\"\n"
   ]
  },
  {
   "cell_type": "code",
   "execution_count": 11,
   "metadata": {},
   "outputs": [
    {
     "ename": "IndexError",
     "evalue": "list index out of range",
     "output_type": "error",
     "traceback": [
      "\u001b[1;31m---------------------------------------------------------------------------\u001b[0m",
      "\u001b[1;31mIndexError\u001b[0m                                Traceback (most recent call last)",
      "Cell \u001b[1;32mIn[11], line 9\u001b[0m\n\u001b[0;32m      7\u001b[0m baudrate\u001b[38;5;241m=\u001b[39m\u001b[38;5;241m9600\u001b[39m\n\u001b[0;32m      8\u001b[0m \u001b[38;5;66;03m# initiate Connection object with first open port\u001b[39;00m\n\u001b[1;32m----> 9\u001b[0m conn \u001b[38;5;241m=\u001b[39m connect\u001b[38;5;241m.\u001b[39mConnection(port\u001b[38;5;241m=\u001b[39m\u001b[38;5;28mstr\u001b[39m(portinfo[\u001b[38;5;241m0\u001b[39m]),baudrate\u001b[38;5;241m=\u001b[39mbaudrate, x\u001b[38;5;241m=\u001b[39m\u001b[38;5;241m0\u001b[39m, mode\u001b[38;5;241m=\u001b[39m\u001b[38;5;241m0\u001b[39m)\n",
      "\u001b[1;31mIndexError\u001b[0m: list index out of range"
     ]
    }
   ],
   "source": [
    "#%% Import CHEMYX serial connection module/driver\n",
    "from core import connect\n",
    "# get open port info\n",
    "portinfo = connect.getOpenPorts() \n",
    "\n",
    "# MUST set baudrate in pump \"System Settings\", and MUST match this rate:\n",
    "baudrate=9600\n",
    "# initiate Connection object with first open port\n",
    "conn = connect.Connection(port=str(portinfo[0]),baudrate=baudrate, x=0, mode=0)\n"
   ]
  },
  {
   "cell_type": "code",
   "execution_count": null,
   "metadata": {},
   "outputs": [
    {
     "ename": "NameError",
     "evalue": "name 'conn' is not defined",
     "output_type": "error",
     "traceback": [
      "\u001b[1;31m---------------------------------------------------------------------------\u001b[0m",
      "\u001b[1;31mNameError\u001b[0m                                 Traceback (most recent call last)",
      "Cell \u001b[1;32mIn[3], line 1\u001b[0m\n\u001b[1;32m----> 1\u001b[0m conn\u001b[38;5;241m.\u001b[39mcloseConnection(\u001b[38;5;124m'\u001b[39m\u001b[38;5;124mCOM3\u001b[39m\u001b[38;5;124m'\u001b[39m)\n",
      "\u001b[1;31mNameError\u001b[0m: name 'conn' is not defined"
     ]
    }
   ],
   "source": [
    "conn.closeConnection('COM3')"
   ]
  },
  {
   "cell_type": "code",
   "execution_count": 12,
   "metadata": {},
   "outputs": [
    {
     "ename": "PortNotOpenError",
     "evalue": "Attempting to use a port that is not open",
     "output_type": "error",
     "traceback": [
      "\u001b[1;31m---------------------------------------------------------------------------\u001b[0m",
      "\u001b[1;31mPortNotOpenError\u001b[0m                          Traceback (most recent call last)",
      "Cell \u001b[1;32mIn[12], line 16\u001b[0m\n\u001b[0;32m     13\u001b[0m delay\u001b[38;5;241m=\u001b[39m\u001b[38;5;241m0\u001b[39m               \u001b[38;5;66;03m# 30 second delay\u001b[39;00m\n\u001b[0;32m     15\u001b[0m \u001b[38;5;66;03m# Communicate parameters to pump\u001b[39;00m\n\u001b[1;32m---> 16\u001b[0m conn\u001b[38;5;241m.\u001b[39msetUnits(units)\n\u001b[0;32m     17\u001b[0m conn\u001b[38;5;241m.\u001b[39msetDiameter(diameter)  \n\u001b[0;32m     18\u001b[0m conn\u001b[38;5;241m.\u001b[39msetVolume(volume)      \n",
      "File \u001b[1;32mc:\\Users\\support\\Desktop\\sauret lab\\fiberSuspension\\syringePython\\CHEMYX_singlestep\\core\\connect.py:134\u001b[0m, in \u001b[0;36mConnection.setUnits\u001b[1;34m(self, units)\u001b[0m\n\u001b[0;32m    132\u001b[0m units_dict \u001b[38;5;241m=\u001b[39m {\u001b[38;5;124m'\u001b[39m\u001b[38;5;124mmL/min\u001b[39m\u001b[38;5;124m'\u001b[39m: \u001b[38;5;124m'\u001b[39m\u001b[38;5;124m0\u001b[39m\u001b[38;5;124m'\u001b[39m, \u001b[38;5;124m'\u001b[39m\u001b[38;5;124mmL/hr\u001b[39m\u001b[38;5;124m'\u001b[39m: \u001b[38;5;124m'\u001b[39m\u001b[38;5;124m1\u001b[39m\u001b[38;5;124m'\u001b[39m, \u001b[38;5;124m'\u001b[39m\u001b[38;5;124mμL/min\u001b[39m\u001b[38;5;124m'\u001b[39m: \u001b[38;5;124m'\u001b[39m\u001b[38;5;124m2\u001b[39m\u001b[38;5;124m'\u001b[39m, \u001b[38;5;124m'\u001b[39m\u001b[38;5;124mμL/hr\u001b[39m\u001b[38;5;124m'\u001b[39m: \u001b[38;5;124m'\u001b[39m\u001b[38;5;124m3\u001b[39m\u001b[38;5;124m'\u001b[39m}\n\u001b[0;32m    133\u001b[0m command \u001b[38;5;241m=\u001b[39m \u001b[38;5;124m'\u001b[39m\u001b[38;5;124mset units \u001b[39m\u001b[38;5;124m'\u001b[39m \u001b[38;5;241m+\u001b[39m units_dict[units]\n\u001b[1;32m--> 134\u001b[0m response \u001b[38;5;241m=\u001b[39m \u001b[38;5;28mself\u001b[39m\u001b[38;5;241m.\u001b[39msendCommand(command)\n\u001b[0;32m    135\u001b[0m \u001b[38;5;28;01mreturn\u001b[39;00m response\n",
      "File \u001b[1;32mc:\\Users\\support\\Desktop\\sauret lab\\fiberSuspension\\syringePython\\CHEMYX_singlestep\\core\\connect.py:76\u001b[0m, in \u001b[0;36mConnection.sendCommand\u001b[1;34m(self, command)\u001b[0m\n\u001b[0;32m     74\u001b[0m \u001b[38;5;28;01mtry\u001b[39;00m:\n\u001b[0;32m     75\u001b[0m     arg \u001b[38;5;241m=\u001b[39m \u001b[38;5;28mbytes\u001b[39m(\u001b[38;5;28mstr\u001b[39m(command), \u001b[38;5;124m'\u001b[39m\u001b[38;5;124mutf8\u001b[39m\u001b[38;5;124m'\u001b[39m) \u001b[38;5;241m+\u001b[39m \u001b[38;5;124mb\u001b[39m\u001b[38;5;124m'\u001b[39m\u001b[38;5;130;01m\\r\u001b[39;00m\u001b[38;5;124m'\u001b[39m\n\u001b[1;32m---> 76\u001b[0m     \u001b[38;5;28mself\u001b[39m\u001b[38;5;241m.\u001b[39mser\u001b[38;5;241m.\u001b[39mwrite(arg)\n\u001b[0;32m     77\u001b[0m     time\u001b[38;5;241m.\u001b[39msleep(\u001b[38;5;241m0.5\u001b[39m)\n\u001b[0;32m     78\u001b[0m     response \u001b[38;5;241m=\u001b[39m \u001b[38;5;28mself\u001b[39m\u001b[38;5;241m.\u001b[39mgetResponse()\n",
      "File \u001b[1;32mc:\\Users\\support\\anaconda3\\Lib\\site-packages\\serial\\serialwin32.py:306\u001b[0m, in \u001b[0;36mSerial.write\u001b[1;34m(self, data)\u001b[0m\n\u001b[0;32m    304\u001b[0m \u001b[38;5;250m\u001b[39m\u001b[38;5;124;03m\"\"\"Output the given byte string over the serial port.\"\"\"\u001b[39;00m\n\u001b[0;32m    305\u001b[0m \u001b[38;5;28;01mif\u001b[39;00m \u001b[38;5;129;01mnot\u001b[39;00m \u001b[38;5;28mself\u001b[39m\u001b[38;5;241m.\u001b[39mis_open:\n\u001b[1;32m--> 306\u001b[0m     \u001b[38;5;28;01mraise\u001b[39;00m PortNotOpenError()\n\u001b[0;32m    307\u001b[0m \u001b[38;5;66;03m#~ if not isinstance(data, (bytes, bytearray)):\u001b[39;00m\n\u001b[0;32m    308\u001b[0m     \u001b[38;5;66;03m#~ raise TypeError('expected %s or bytearray, got %s' % (bytes, type(data)))\u001b[39;00m\n\u001b[0;32m    309\u001b[0m \u001b[38;5;66;03m# convert data (needed in case of memoryview instance: Py 3.1 io lib), ctypes doesn't like memoryview\u001b[39;00m\n\u001b[0;32m    310\u001b[0m data \u001b[38;5;241m=\u001b[39m to_bytes(data)\n",
      "\u001b[1;31mPortNotOpenError\u001b[0m: Attempting to use a port that is not open"
     ]
    }
   ],
   "source": [
    "\n",
    "#%% Connect and Run Pump - Basic Setup\n",
    "if __name__=='__main__':\n",
    "    \n",
    "    # Open Connection to pump\n",
    "    conn.openConnection()\n",
    "    \n",
    "    # Setup parameters for basic run\n",
    "    units='mL/min'\t\t \t# OPTIONS: 'mL/min','mL/hr','μL/min','μL/hr'\n",
    "    diameter=28.6           # 28.6mm diameter - can be set in pump GUI\n",
    "    volume= 10                # 1 mL volume\n",
    "    rate=0.5                  # 1 mL/min flow rate\n",
    "    runtime=volume/rate     # this is calculated implictly by pump\n",
    "    delay=0               # 30 second delay\n",
    "    \n",
    "    # Communicate parameters to pump\n",
    "    conn.setUnits(units)\n",
    "    conn.setDiameter(diameter)  \n",
    "    conn.setVolume(volume)      \n",
    "    conn.setRate(rate)          \n",
    "    conn.setDelay(delay)       \n",
    "    \n",
    "    # Start pump\n",
    "    conn.startPump()\n"
   ]
  }
 ],
 "metadata": {
  "kernelspec": {
   "display_name": "base",
   "language": "python",
   "name": "python3"
  },
  "language_info": {
   "codemirror_mode": {
    "name": "ipython",
    "version": 3
   },
   "file_extension": ".py",
   "mimetype": "text/x-python",
   "name": "python",
   "nbconvert_exporter": "python",
   "pygments_lexer": "ipython3",
   "version": "3.11.7"
  }
 },
 "nbformat": 4,
 "nbformat_minor": 2
}
