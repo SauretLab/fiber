{
 "cells": [
  {
   "cell_type": "markdown",
   "metadata": {},
   "source": [
    "Created on Sat Jun  4 11:50:21 2022\n",
    "@author: cukelarter\n",
    "\n",
    "Script for initiating multi-step run on Chemyx Syringe Pump. Tested on Chemyx 100-X.\n",
    "Capable of variable units between steps, and linear ramping within a step.\n",
    "\n",
    "After importing serial connection driver we connect to the pump. Connection will remain open\n",
    "until user calls \"conn.closeConnection()\". If user does not call this before exiting\n",
    "the connection will remain locked until the connection is physically broken (unplugged).\n",
    "The run will continue to completion after connection is closed.\n",
    "\n",
    "To initiate multi-step routine the user must enter \"Multi-step\" mode on the pump before running code.\n",
    "Multi-step routine will repeat an infinite number of times.\n"
   ]
  },
  {
   "cell_type": "markdown",
   "metadata": {},
   "source": [
    "##### Import CHEMYX serial connection module/driver\n",
    "\n",
    "***Run block once to connect to the pump then set pump to multistep on display***"
   ]
  },
  {
   "cell_type": "code",
   "execution_count": 4,
   "metadata": {},
   "outputs": [
    {
     "ename": "AttributeError",
     "evalue": "module 'serial' has no attribute 'SerialException'",
     "output_type": "error",
     "traceback": [
      "\u001b[0;31m---------------------------------------------------------------------------\u001b[0m",
      "\u001b[0;31mAttributeError\u001b[0m                            Traceback (most recent call last)",
      "File \u001b[0;32m~/Desktop/UCSB/Summer/Fiber Clogging/fiber/syringePython/CHEMYX_multistep/core/connect.py:19\u001b[0m, in \u001b[0;36mgetOpenPorts\u001b[0;34m()\u001b[0m\n\u001b[1;32m     18\u001b[0m \u001b[39mtry\u001b[39;00m:\n\u001b[0;32m---> 19\u001b[0m     s \u001b[39m=\u001b[39m serial\u001b[39m.\u001b[39;49mSerial(port)\n\u001b[1;32m     20\u001b[0m     s\u001b[39m.\u001b[39mclose()\n",
      "\u001b[0;31mAttributeError\u001b[0m: module 'serial' has no attribute 'Serial'",
      "\nDuring handling of the above exception, another exception occurred:\n",
      "\u001b[0;31mAttributeError\u001b[0m                            Traceback (most recent call last)",
      "\u001b[1;32m/Users/raaghavt/Desktop/UCSB/Summer/Fiber Clogging/fiber/syringePython/CHEMYX_multistep/multistep.ipynb Cell 4\u001b[0m line \u001b[0;36m4\n\u001b[1;32m      <a href='vscode-notebook-cell:/Users/raaghavt/Desktop/UCSB/Summer/Fiber%20Clogging/fiber/syringePython/CHEMYX_multistep/multistep.ipynb#W0sZmlsZQ%3D%3D?line=0'>1</a>\u001b[0m \u001b[39mfrom\u001b[39;00m \u001b[39mcore\u001b[39;00m \u001b[39mimport\u001b[39;00m connect\n\u001b[1;32m      <a href='vscode-notebook-cell:/Users/raaghavt/Desktop/UCSB/Summer/Fiber%20Clogging/fiber/syringePython/CHEMYX_multistep/multistep.ipynb#W0sZmlsZQ%3D%3D?line=2'>3</a>\u001b[0m \u001b[39m# get open port info\u001b[39;00m\n\u001b[0;32m----> <a href='vscode-notebook-cell:/Users/raaghavt/Desktop/UCSB/Summer/Fiber%20Clogging/fiber/syringePython/CHEMYX_multistep/multistep.ipynb#W0sZmlsZQ%3D%3D?line=3'>4</a>\u001b[0m portinfo \u001b[39m=\u001b[39m connect\u001b[39m.\u001b[39;49mgetOpenPorts() \n\u001b[1;32m      <a href='vscode-notebook-cell:/Users/raaghavt/Desktop/UCSB/Summer/Fiber%20Clogging/fiber/syringePython/CHEMYX_multistep/multistep.ipynb#W0sZmlsZQ%3D%3D?line=5'>6</a>\u001b[0m \u001b[39m# MUST set baudrate in pump \"System Settings\", and MUST match this rate:\u001b[39;00m\n\u001b[1;32m      <a href='vscode-notebook-cell:/Users/raaghavt/Desktop/UCSB/Summer/Fiber%20Clogging/fiber/syringePython/CHEMYX_multistep/multistep.ipynb#W0sZmlsZQ%3D%3D?line=6'>7</a>\u001b[0m baudrate\u001b[39m=\u001b[39m\u001b[39m9600\u001b[39m\n",
      "File \u001b[0;32m~/Desktop/UCSB/Summer/Fiber Clogging/fiber/syringePython/CHEMYX_multistep/core/connect.py:22\u001b[0m, in \u001b[0;36mgetOpenPorts\u001b[0;34m()\u001b[0m\n\u001b[1;32m     20\u001b[0m         s\u001b[39m.\u001b[39mclose()\n\u001b[1;32m     21\u001b[0m         result\u001b[39m.\u001b[39mappend(port)\n\u001b[0;32m---> 22\u001b[0m     \u001b[39mexcept\u001b[39;00m (\u001b[39mOSError\u001b[39;00m, serial\u001b[39m.\u001b[39;49mSerialException):\n\u001b[1;32m     23\u001b[0m         \u001b[39mpass\u001b[39;00m\n\u001b[1;32m     24\u001b[0m \u001b[39mreturn\u001b[39;00m result\n",
      "\u001b[0;31mAttributeError\u001b[0m: module 'serial' has no attribute 'SerialException'"
     ]
    }
   ],
   "source": [
    "from core import connect\n",
    "\n",
    "# get open port info\n",
    "portinfo = connect.getOpenPorts() \n",
    "\n",
    "# MUST set baudrate in pump \"System Settings\", and MUST match this rate:\n",
    "baudrate=9600\n",
    "# initiate Connection object with first open port\n",
    "conn = connect.Connection(port=str(portinfo[0]),baudrate=baudrate, x=0, mode=0)\n"
   ]
  },
  {
   "cell_type": "markdown",
   "metadata": {},
   "source": [
    "##### Connect and Run Pump - Multi-Step Setup"
   ]
  },
  {
   "cell_type": "code",
   "execution_count": 5,
   "metadata": {},
   "outputs": [
    {
     "ename": "NameError",
     "evalue": "name 'conn' is not defined",
     "output_type": "error",
     "traceback": [
      "\u001b[0;31m---------------------------------------------------------------------------\u001b[0m",
      "\u001b[0;31mNameError\u001b[0m                                 Traceback (most recent call last)",
      "\u001b[1;32m/Users/raaghavt/Desktop/UCSB/Summer/Fiber Clogging/fiber/syringePython/CHEMYX_multistep/multistep.ipynb Cell 6\u001b[0m line \u001b[0;36m4\n\u001b[1;32m      <a href='vscode-notebook-cell:/Users/raaghavt/Desktop/UCSB/Summer/Fiber%20Clogging/fiber/syringePython/CHEMYX_multistep/multistep.ipynb#W5sZmlsZQ%3D%3D?line=0'>1</a>\u001b[0m \u001b[39mif\u001b[39;00m \u001b[39m__name__\u001b[39m\u001b[39m==\u001b[39m\u001b[39m'\u001b[39m\u001b[39m__main__\u001b[39m\u001b[39m'\u001b[39m:\n\u001b[1;32m      <a href='vscode-notebook-cell:/Users/raaghavt/Desktop/UCSB/Summer/Fiber%20Clogging/fiber/syringePython/CHEMYX_multistep/multistep.ipynb#W5sZmlsZQ%3D%3D?line=1'>2</a>\u001b[0m     \n\u001b[1;32m      <a href='vscode-notebook-cell:/Users/raaghavt/Desktop/UCSB/Summer/Fiber%20Clogging/fiber/syringePython/CHEMYX_multistep/multistep.ipynb#W5sZmlsZQ%3D%3D?line=2'>3</a>\u001b[0m     \u001b[39m# Open Connection to pump\u001b[39;00m\n\u001b[0;32m----> <a href='vscode-notebook-cell:/Users/raaghavt/Desktop/UCSB/Summer/Fiber%20Clogging/fiber/syringePython/CHEMYX_multistep/multistep.ipynb#W5sZmlsZQ%3D%3D?line=3'>4</a>\u001b[0m     conn\u001b[39m.\u001b[39mopenConnection()\n\u001b[1;32m      <a href='vscode-notebook-cell:/Users/raaghavt/Desktop/UCSB/Summer/Fiber%20Clogging/fiber/syringePython/CHEMYX_multistep/multistep.ipynb#W5sZmlsZQ%3D%3D?line=5'>6</a>\u001b[0m     \u001b[39m# Setup parameters for multi-step run\u001b[39;00m\n\u001b[1;32m      <a href='vscode-notebook-cell:/Users/raaghavt/Desktop/UCSB/Summer/Fiber%20Clogging/fiber/syringePython/CHEMYX_multistep/multistep.ipynb#W5sZmlsZQ%3D%3D?line=6'>7</a>\u001b[0m     units\u001b[39m=\u001b[39m\u001b[39m'\u001b[39m\u001b[39mmL/min\u001b[39m\u001b[39m'\u001b[39m \t\t\t\u001b[39m# OPTIONS: 'mL/min','mL/hr','μL/min','μL/hr'\u001b[39;00m\n",
      "\u001b[0;31mNameError\u001b[0m: name 'conn' is not defined"
     ]
    }
   ],
   "source": [
    "if __name__=='__main__':\n",
    "    \n",
    "    # Open Connection to pump\n",
    "    conn.openConnection()\n",
    "    \n",
    "    # Setup parameters for multi-step run\n",
    "    units='mL/min' \t\t\t# OPTIONS: 'mL/min','mL/hr','μL/min','μL/hr'\n",
    "    diameter=28.6           # 28.6mm diameter\n",
    "    volume=[0.25,5,2]       # Volume = [Step1: 0.25mL, Step2: 5mL, Step3: 2mL]\n",
    "    delay=[0.1,0.2,0.3]     # Delay  = [Step1: 6s,     Step2: 12s, Step3: 18s]\n",
    "    \n",
    "    # Variable flow rates in each step, linear ramping generated by pump\n",
    "    rate1=[20,5,40]         # between rate1 and rate2 for each step\n",
    "    rate2=[21,6,41]         # use one rate list for linear flow per step\n",
    "    varrates=[str(rate1[ii])+'/'+str(rate2[ii]) for ii in range(len(rate1))]\n",
    "    direction=str('WDR')\n",
    "    # Rate = [Step1: 20mL/min->21mL/min, Step2: 5mL/min->6mL/min, Step3: 40mL/min->41mL/min]\n",
    "            \n",
    "    # communicate parameters to pump\n",
    "    conn.setUnits(units)\n",
    "    conn.setDiameter(diameter)  \n",
    "    conn.setVolume(volume)      \n",
    "    conn.setRate(varrates,direction)          \n",
    "    conn.setDelay(delay)  \n",
    "    \n",
    "    # start pump\n",
    "    conn.startPump()"
   ]
  }
 ],
 "metadata": {
  "kernelspec": {
   "display_name": "Python 3",
   "language": "python",
   "name": "python3"
  },
  "language_info": {
   "codemirror_mode": {
    "name": "ipython",
    "version": 3
   },
   "file_extension": ".py",
   "mimetype": "text/x-python",
   "name": "python",
   "nbconvert_exporter": "python",
   "pygments_lexer": "ipython3",
   "version": "3.11.6"
  }
 },
 "nbformat": 4,
 "nbformat_minor": 2
}
